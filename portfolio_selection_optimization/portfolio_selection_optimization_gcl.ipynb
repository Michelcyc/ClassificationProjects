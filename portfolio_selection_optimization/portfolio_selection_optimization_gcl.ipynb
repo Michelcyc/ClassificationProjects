{
  "cells": [
    {
      "cell_type": "markdown",
      "metadata": {
        "id": "yljpTBlBuO6r"
      },
      "source": [
        "# Portfolio Selection Optimization\n",
        "This model is an example of the classic [Markowitz portfolio selection optimization model](https://en.wikipedia.org/wiki/Markowitz_model). We want to find the fraction of the portfolio to invest among a set of stocks that balances risk and return. It is a Quadratic Programming (QP) model with vector and matrix data for returns and risk, respectively. This is best suited to a matrix formulation, so we use the Gurobi Python *matrix* interface. The basic model is fairly simple, so we also solve it parametrically to find the efficient frontier.\n",
        "\n",
        "**Download the Repository** <br /> \n",
        "You can download the repository containing this and other examples by clicking [here](https://github.com/Gurobi/modeling-examples/archive/master.zip). \n",
        "\n",
        "\n",
        "## Model Formulation\n",
        "### Parameters\n",
        "\n",
        "We use the [Greek values](https://en.wikipedia.org/wiki/Greeks_\\(finance\\)) that are traditional in finance:\n",
        "\n",
        "- $\\delta$: n-element vector measuring the change in price for each stock\n",
        "- $\\sigma$: n x n matrix measuring the covariance among stocks\n",
        "\n",
        "There is one additional parameter when solving the model parametrically:\n",
        "\n",
        "- r: target return\n",
        "\n",
        "\n",
        "### Decision Variables\n",
        "- $x \\ge 0$: n-element vector where each element represents the fraction of the porfolio to invest in each stock\n",
        "\n",
        "### Objective Function\n",
        "Minimize the total risk, a convex quadratic function:\n",
        "\n",
        "\\begin{equation}\n",
        "\\min x^t \\cdot \\sigma \\cdot x\n",
        "\\end{equation}\n",
        "\n",
        "### Constraints\n",
        "\n",
        "Allocate the entire portfolio: the total investments should be 1.0 (100%), where $e$ is a unit vector (all 1's):\n",
        "\n",
        "\\begin{equation}\n",
        "e \\cdot x = 1\n",
        "\\end{equation}\n",
        "\n",
        "\n",
        "Return: When we solve the model parametrically for different return values $r$, we add a constraint on the target return:\n",
        "\n",
        "\\begin{equation}\n",
        "\\delta \\cdot x = r\n",
        "\\end{equation}"
      ]
    },
    {
      "cell_type": "markdown",
      "metadata": {
        "id": "R68YS9kvuO6w"
      },
      "source": [
        "## Python Implementation\n",
        "### Stock data\n",
        "Use [yfinance](https://pypi.org/project/yfinance/) library to get the latest 2 years of _actual stock data_ from the 20 most profitable US companies, [according to Wikipedia in April 2021](https://en.wikipedia.org/wiki/List_of_largest_companies_in_the_United_States_by_revenue#List_of_companies_by_profit)."
      ]
    },
    {
      "cell_type": "code",
      "execution_count": 28,
      "metadata": {
        "colab": {
          "base_uri": "https://localhost:8080/"
        },
        "id": "a57sJ0fiuO6x",
        "outputId": "1b7b8877-22a4-42a8-9f91-6550f8bf199b"
      },
      "outputs": [
        {
          "output_type": "stream",
          "name": "stdout",
          "text": [
            "Looking in indexes: https://pypi.org/simple, https://us-python.pkg.dev/colab-wheels/public/simple/\n",
            "Requirement already satisfied: gurobipy in /usr/local/lib/python3.10/dist-packages (10.0.1)\n",
            "Requirement already satisfied: yfinance in /usr/local/lib/python3.10/dist-packages (0.2.18)\n",
            "Requirement already satisfied: pandas>=1.3.0 in /usr/local/lib/python3.10/dist-packages (from yfinance) (1.5.3)\n",
            "Requirement already satisfied: numpy>=1.16.5 in /usr/local/lib/python3.10/dist-packages (from yfinance) (1.22.4)\n",
            "Requirement already satisfied: requests>=2.26 in /usr/local/lib/python3.10/dist-packages (from yfinance) (2.27.1)\n",
            "Requirement already satisfied: multitasking>=0.0.7 in /usr/local/lib/python3.10/dist-packages (from yfinance) (0.0.11)\n",
            "Requirement already satisfied: lxml>=4.9.1 in /usr/local/lib/python3.10/dist-packages (from yfinance) (4.9.2)\n",
            "Requirement already satisfied: appdirs>=1.4.4 in /usr/local/lib/python3.10/dist-packages (from yfinance) (1.4.4)\n",
            "Requirement already satisfied: pytz>=2022.5 in /usr/local/lib/python3.10/dist-packages (from yfinance) (2022.7.1)\n",
            "Requirement already satisfied: frozendict>=2.3.4 in /usr/local/lib/python3.10/dist-packages (from yfinance) (2.3.7)\n",
            "Requirement already satisfied: cryptography>=3.3.2 in /usr/local/lib/python3.10/dist-packages (from yfinance) (40.0.2)\n",
            "Requirement already satisfied: beautifulsoup4>=4.11.1 in /usr/local/lib/python3.10/dist-packages (from yfinance) (4.11.2)\n",
            "Requirement already satisfied: html5lib>=1.1 in /usr/local/lib/python3.10/dist-packages (from yfinance) (1.1)\n",
            "Requirement already satisfied: soupsieve>1.2 in /usr/local/lib/python3.10/dist-packages (from beautifulsoup4>=4.11.1->yfinance) (2.4.1)\n",
            "Requirement already satisfied: cffi>=1.12 in /usr/local/lib/python3.10/dist-packages (from cryptography>=3.3.2->yfinance) (1.15.1)\n",
            "Requirement already satisfied: six>=1.9 in /usr/local/lib/python3.10/dist-packages (from html5lib>=1.1->yfinance) (1.16.0)\n",
            "Requirement already satisfied: webencodings in /usr/local/lib/python3.10/dist-packages (from html5lib>=1.1->yfinance) (0.5.1)\n",
            "Requirement already satisfied: python-dateutil>=2.8.1 in /usr/local/lib/python3.10/dist-packages (from pandas>=1.3.0->yfinance) (2.8.2)\n",
            "Requirement already satisfied: urllib3<1.27,>=1.21.1 in /usr/local/lib/python3.10/dist-packages (from requests>=2.26->yfinance) (1.26.15)\n",
            "Requirement already satisfied: certifi>=2017.4.17 in /usr/local/lib/python3.10/dist-packages (from requests>=2.26->yfinance) (2022.12.7)\n",
            "Requirement already satisfied: charset-normalizer~=2.0.0 in /usr/local/lib/python3.10/dist-packages (from requests>=2.26->yfinance) (2.0.12)\n",
            "Requirement already satisfied: idna<4,>=2.5 in /usr/local/lib/python3.10/dist-packages (from requests>=2.26->yfinance) (3.4)\n",
            "Requirement already satisfied: pycparser in /usr/local/lib/python3.10/dist-packages (from cffi>=1.12->cryptography>=3.3.2->yfinance) (2.21)\n"
          ]
        }
      ],
      "source": [
        "%pip install gurobipy yfinance"
      ]
    },
    {
      "cell_type": "code",
      "execution_count": 44,
      "metadata": {
        "scrolled": true,
        "colab": {
          "base_uri": "https://localhost:8080/"
        },
        "id": "4yT-frLsuO6z",
        "outputId": "fc7bad08-d0f4-40d5-eb12-b08a459e3c07"
      },
      "outputs": [
        {
          "output_type": "stream",
          "name": "stdout",
          "text": [
            "[*********************100%***********************]  6 of 6 completed\n"
          ]
        }
      ],
      "source": [
        "import yfinance as yf\n",
        "\n",
        "stocks = ['BBAS3.SA', 'ECOR3.SA', 'ITUB4.SA', 'MGLU3.SA', 'RADL3.SA', 'UNIP5.SA']\n",
        "start_date = \"2017-01-01\"\n",
        "end_date = \"2017-12-31\"\n",
        "data = yf.download(stocks, start=start_date, end=end_date, interval='1mo')"
      ]
    },
    {
      "cell_type": "markdown",
      "metadata": {
        "id": "8TD_oZ6LuO60"
      },
      "source": [
        "### Compute Greeks\n",
        "Using the downloaded stock data, find the delta (return), sigma (covariance) and standard deviation values for stock prices:"
      ]
    },
    {
      "cell_type": "code",
      "execution_count": 45,
      "metadata": {
        "id": "GfWJlmMmuO60"
      },
      "outputs": [],
      "source": [
        "import numpy as np\n",
        "\n",
        "closes = np.transpose(np.array(data.Close)) # matrix of daily closing prices\n",
        "absdiff = np.diff(closes)                   # change in closing price each day\n",
        "reldiff = np.divide(absdiff, closes[:,:-1]) # relative change in daily closing price\n",
        "delta = np.mean(reldiff, axis=1)            # mean price change\n",
        "sigma = np.cov(reldiff)                     # covariance (standard deviations)\n",
        "std = np.std(reldiff, axis=1)               # standard deviation"
      ]
    },
    {
      "cell_type": "code",
      "source": [
        "print(delta)"
      ],
      "metadata": {
        "id": "OP3oIk_KAH1v",
        "outputId": "58d92185-1223-433a-cb31-96b846a574f7",
        "colab": {
          "base_uri": "https://localhost:8080/"
        }
      },
      "execution_count": 46,
      "outputs": [
        {
          "output_type": "stream",
          "name": "stdout",
          "text": [
            "[0.00561259 0.03479671 0.01373673 0.18820082 0.03339158 0.07461802]\n"
          ]
        }
      ]
    },
    {
      "cell_type": "markdown",
      "metadata": {
        "id": "ZBWcIUIUuO62"
      },
      "source": [
        "## Minimize risk by solving QP model"
      ]
    },
    {
      "cell_type": "code",
      "execution_count": 47,
      "metadata": {
        "colab": {
          "base_uri": "https://localhost:8080/"
        },
        "id": "zZgwXOfSuO63",
        "outputId": "450e805b-6251-4cb6-840b-a26d1e99349c"
      },
      "outputs": [
        {
          "output_type": "stream",
          "name": "stdout",
          "text": [
            "Gurobi Optimizer version 10.0.1 build v10.0.1rc0 (linux64)\n",
            "\n",
            "CPU model: Intel(R) Xeon(R) CPU @ 2.20GHz, instruction set [SSE2|AVX|AVX2]\n",
            "Thread count: 1 physical cores, 2 logical processors, using up to 2 threads\n",
            "\n",
            "Optimize a model with 17 rows, 6 columns and 25 nonzeros\n",
            "Model fingerprint: 0x96eb77ef\n",
            "Coefficient statistics:\n",
            "  Matrix range     [1e+00, 1e+00]\n",
            "  Objective range  [1e-02, 2e-01]\n",
            "  Bounds range     [0e+00, 0e+00]\n",
            "  RHS range        [5e-02, 1e+00]\n",
            "Presolve removed 17 rows and 6 columns\n",
            "Presolve time: 0.01s\n",
            "Presolve: All rows and columns removed\n",
            "Iteration    Objective       Primal Inf.    Dual Inf.      Time\n",
            "       0    9.0295050e-02   0.000000e+00   0.000000e+00      0s\n",
            "\n",
            "Solved in 0 iterations and 0.01 seconds (0.00 work units)\n",
            "Optimal objective  9.029505000e-02\n"
          ]
        }
      ],
      "source": [
        "import gurobipy as gp\n",
        "from gurobipy import GRB\n",
        "from math import sqrt\n",
        "\n",
        "# Create an empty model\n",
        "m = gp.Model('portfolio')\n",
        "\n",
        "# Add matrix variable for the stocks\n",
        "w1 = m.addVar(lb=0)\n",
        "w2 = m.addVar(lb=0)\n",
        "w3 = m.addVar(lb=0)\n",
        "w4 = m.addVar(lb=0)\n",
        "w5 = m.addVar(lb=0)\n",
        "w6 = m.addVar(lb=0)\n",
        "\n",
        "coefficients = [0.0141, 0.020933, 0.03644, 0.03666, 0.073917, 0.190333]\n",
        "weights = [w1, w4, w2, w6, w3, w5]\n",
        "\n",
        "Rp = gp.LinExpr()\n",
        "for i in range(len(coefficients)):\n",
        "    Rp += coefficients[i] * weights[i]\n",
        "m.setObjective(Rp, GRB.MAXIMIZE)\n",
        "\n",
        "#Restrições\n",
        "m.addConstr(w1>=0)\n",
        "m.addConstr(w2>=0)\n",
        "m.addConstr(w3>=0)\n",
        "m.addConstr(w4>=0)\n",
        "m.addConstr(w5>=0)\n",
        "m.addConstr(w6>=0)\n",
        "m.addConstr(w6>=0)\n",
        "m.addConstr(w1 + w2 + w3 + w4 + w5 + w6 == 1)\n",
        "\n",
        "#Replicando o modelo conservador\n",
        "m.addConstr(w1 >= 0.05)\n",
        "m.addConstr(w3 >= 0.05)  # Modified from w2 >= 0.05\n",
        "m.addConstr(w5 >= 0.05)  # Modified from w3 >= 0.05\n",
        "m.addConstr(w2 >= 0.05)  # Modified from w4 >= 0.05\n",
        "m.addConstr(w6 >= 0.05)  # Modified from w5 >= 0.05\n",
        "m.addConstr(w4 >= 0.05)  # Modified from w6 >= 0.05\n",
        "m.addConstr(w1 + w3 <= 0.2)  # Modified from w1 + w2 <= 0.2\n",
        "m.addConstr(w5 + w6 >= 0.3)  # Modified from w3 + w4 >= 0.3\n",
        "m.addConstr(w2 + w4 >= 0.5)  # Modified from w5 + w6 >= 0.5\n",
        "\n",
        "\n",
        "# Verify model formulation\n",
        "m.write('portfolio_selection_optimization.lp')\n",
        "\n",
        "# Optimize model to find the minimum risk portfolio\n",
        "m.optimize()"
      ]
    },
    {
      "cell_type": "code",
      "source": [
        "print(weights)\n"
      ],
      "metadata": {
        "colab": {
          "base_uri": "https://localhost:8080/"
        },
        "id": "02BeMgLy2T-V",
        "outputId": "b91ef50d-8980-4025-ce23-532fd46aa605"
      },
      "execution_count": 48,
      "outputs": [
        {
          "output_type": "stream",
          "name": "stdout",
          "text": [
            "[<gurobi.Var C0 (value 0.05)>, <gurobi.Var C3 (value 0.05)>, <gurobi.Var C1 (value 0.45)>, <gurobi.Var C5 (value 0.05)>, <gurobi.Var C2 (value 0.05)>, <gurobi.Var C4 (value 0.35)>]\n"
          ]
        }
      ]
    },
    {
      "cell_type": "markdown",
      "metadata": {
        "id": "F91HoExxuO63"
      },
      "source": [
        "## Display minimum risk portfolio using Pandas"
      ]
    },
    {
      "cell_type": "code",
      "execution_count": 13,
      "metadata": {
        "colab": {
          "base_uri": "https://localhost:8080/",
          "height": 246
        },
        "id": "7z4eiB5kuO64",
        "outputId": "dff347dd-95dd-45e9-c453-45197bdfa1b8"
      },
      "outputs": [
        {
          "output_type": "error",
          "ename": "NameError",
          "evalue": "ignored",
          "traceback": [
            "\u001b[0;31m---------------------------------------------------------------------------\u001b[0m",
            "\u001b[0;31mNameError\u001b[0m                                 Traceback (most recent call last)",
            "\u001b[0;32m<ipython-input-13-872058a080ed>\u001b[0m in \u001b[0;36m<cell line: 3>\u001b[0;34m()\u001b[0m\n\u001b[1;32m      1\u001b[0m \u001b[0;32mimport\u001b[0m \u001b[0mpandas\u001b[0m \u001b[0;32mas\u001b[0m \u001b[0mpd\u001b[0m\u001b[0;34m\u001b[0m\u001b[0;34m\u001b[0m\u001b[0m\n\u001b[1;32m      2\u001b[0m \u001b[0mminrisk_volatility\u001b[0m \u001b[0;34m=\u001b[0m \u001b[0msqrt\u001b[0m\u001b[0;34m(\u001b[0m\u001b[0mm\u001b[0m\u001b[0;34m.\u001b[0m\u001b[0mObjVal\u001b[0m\u001b[0;34m)\u001b[0m\u001b[0;34m\u001b[0m\u001b[0;34m\u001b[0m\u001b[0m\n\u001b[0;32m----> 3\u001b[0;31m \u001b[0mminrisk_return\u001b[0m \u001b[0;34m=\u001b[0m \u001b[0mdelta\u001b[0m \u001b[0;34m@\u001b[0m \u001b[0mx\u001b[0m\u001b[0;34m.\u001b[0m\u001b[0mX\u001b[0m\u001b[0;34m\u001b[0m\u001b[0;34m\u001b[0m\u001b[0m\n\u001b[0m\u001b[1;32m      4\u001b[0m pd.DataFrame(data=np.append(x.X, [minrisk_volatility, minrisk_return]),\n\u001b[1;32m      5\u001b[0m              \u001b[0mindex\u001b[0m\u001b[0;34m=\u001b[0m\u001b[0mstocks\u001b[0m \u001b[0;34m+\u001b[0m \u001b[0;34m[\u001b[0m\u001b[0;34m'Volatility'\u001b[0m\u001b[0;34m,\u001b[0m \u001b[0;34m'Expected Return'\u001b[0m\u001b[0;34m]\u001b[0m\u001b[0;34m,\u001b[0m\u001b[0;34m\u001b[0m\u001b[0;34m\u001b[0m\u001b[0m\n",
            "\u001b[0;31mNameError\u001b[0m: name 'x' is not defined"
          ]
        }
      ],
      "source": [
        "import pandas as pd\n",
        "minrisk_volatility = sqrt(m.ObjVal)\n",
        "minrisk_return = delta @ x.X\n",
        "pd.DataFrame(data=np.append(x.X, [minrisk_volatility, minrisk_return]),\n",
        "             index=stocks + ['Volatility', 'Expected Return'],\n",
        "             columns=['Minimum Risk Portfolio'])"
      ]
    },
    {
      "cell_type": "markdown",
      "metadata": {
        "id": "yDE7wtRMuO65"
      },
      "source": [
        "## Compute the efficient frontier\n",
        "Solve the QP parametrically to find the lowest risk portfolio for different expected returns."
      ]
    },
    {
      "cell_type": "code",
      "execution_count": null,
      "metadata": {
        "id": "I47Qx4epuO65"
      },
      "outputs": [],
      "source": [
        "# Create an expression representing the expected return for the portfolio\n",
        "portfolio_return = delta @ x\n",
        "target = m.addConstr(portfolio_return == minrisk_return, 'target')\n",
        "\n",
        "# Solve for efficient frontier by varying target return\n",
        "frontier = np.empty((2,0))\n",
        "for r in np.linspace(delta.min(), delta.max(), 25):\n",
        "    target.rhs = r\n",
        "    m.optimize()\n",
        "    frontier = np.append(frontier, [[sqrt(m.ObjVal)],[r]], axis=1)"
      ]
    },
    {
      "cell_type": "markdown",
      "metadata": {
        "id": "hbFqtP5WuO65"
      },
      "source": [
        "## Plot results\n",
        "Use the matplot library to plot the optimized solutions, along with the individual stocks:"
      ]
    },
    {
      "cell_type": "code",
      "execution_count": null,
      "metadata": {
        "id": "9DIK-FJEuO65"
      },
      "outputs": [],
      "source": [
        "import matplotlib.pyplot as plt\n",
        "#plt.figure(figsize=(10,10))\n",
        "\n",
        "fig, ax = plt.subplots(figsize=(10,8))\n",
        "\n",
        "# Plot volatility versus expected return for individual stocks\n",
        "ax.scatter(x=std, y=delta,\n",
        "           color='Blue', label='Individual Stocks')\n",
        "for i, stock in enumerate(stocks):\n",
        "    ax.annotate(stock, (std[i], delta[i]))\n",
        "\n",
        "# Plot volatility versus expected return for minimum risk portfolio\n",
        "ax.scatter(x=minrisk_volatility, y=minrisk_return, color='DarkGreen')\n",
        "ax.annotate('Minimum\\nRisk\\nPortfolio', (minrisk_volatility, minrisk_return),\n",
        "            horizontalalignment='right')\n",
        "\n",
        "# Plot efficient frontier\n",
        "ax.plot(frontier[0], frontier[1], label='Efficient Frontier', color='DarkGreen')\n",
        "\n",
        "# Format and display the final plot\n",
        "ax.axis([frontier[0].min()*0.7, frontier[0].max()*1.3, delta.min()*1.2, delta.max()*1.2])\n",
        "ax.set_xlabel('Volatility (standard deviation)')\n",
        "ax.set_ylabel('Expected Return')\n",
        "ax.legend()\n",
        "ax.grid()\n",
        "plt.show()"
      ]
    }
  ],
  "metadata": {
    "kernelspec": {
      "display_name": "Python 3 (ipykernel)",
      "language": "python",
      "name": "python3"
    },
    "language_info": {
      "codemirror_mode": {
        "name": "ipython",
        "version": 3
      },
      "file_extension": ".py",
      "mimetype": "text/x-python",
      "name": "python",
      "nbconvert_exporter": "python",
      "pygments_lexer": "ipython3",
      "version": "3.9.7"
    },
    "colab": {
      "provenance": []
    }
  },
  "nbformat": 4,
  "nbformat_minor": 0
}